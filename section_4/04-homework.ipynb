{
 "cells": [
  {
   "cell_type": "code",
   "execution_count": 6,
   "metadata": {},
   "outputs": [
    {
     "name": "stdout",
     "output_type": "stream",
     "text": [
      "Renting a car is very expensive.\n",
      "Renting a car is more affordable\n"
     ]
    }
   ],
   "source": [
    "# 1. Create an if statement: if 'age' is greater than or equal to 25, print \"Renting a car is more affordable\", however if 'age' is less than 25, print \"Renting a car is very expensive.\"\n",
    "age = 26\n",
    "\n",
    "if age > 25:\n",
    "    print(\"Renting a car is very expensive.\")\n",
    "else:\n",
    "    print(\"Renting a car is more affordable\")\n",
    "\n",
    "# 2. Create and chain an if-else  statement: if 'age' is greater than or equal to 25, print \"Renting a car is more affordable.\" If 'age' is less than 25 but greater than or equal to 18, print \"Renting a car is very expensive.\" Finally, if age is less than 18, print \"You cannot legally rent a car.\"\n",
    "amIUnderAge = 17\n",
    "\n",
    "if amIUnderAge > 25:\n",
    "    print(\"Renting a car is more affordable.\")\n",
    "\n",
    "elif amIUnderAge  < 25 >= 18:\n",
    "    print(\"Renting a car is more affordable\")\n",
    "\n",
    "else:\n",
    "    print(\"You cannot legally rent a car.\")\n",
    "\n",
    "\n",
    "# 3. Loop over the following string to (1) count all the characters in the string and (2) print out all the vowels -- \"The quick brown fox jumps over the lazy dog\"\n",
    "\n",
    "countingVowels = \"The quick brown fox jumps over the lazy dog\"\n",
    "\n",
    "for i in countingVowels:\n",
    "    total\n",
    "\n",
    "    \n",
    "\n",
    "\n",
    "\n",
    "# 4. Write a nested loop that prints out every piece of clothing from the `couture` list, in every fashionable color from the `panettone` set: couture = [\"trousers\", \"blouse\", \"bandana\", \"cumber band\", \"blazer\", \"vest\", \"french beret\", \"scarf\", \"stole\"] and panettone = {\"cerise\", \"fuchsia\", \"aqua\", \"maple\", \"auburn\", \"burnt sienna\", \"gunmetal blue\", \"Dark Sapphire\"}\n",
    "\n",
    "# 5. Use range as a loop to calculate the sum of all the numbers from 1 to 100\n",
    "\n",
    "# 6. Print the second item in this fruits list.\n",
    "#     [\"apple\", \"banana\", \"cherry\"]\n",
    "\n",
    "# 7. Change the value from \"apple\" to \"kiwi\", in the fruits list.\n",
    "#     [\"apple\", \"banana\", \"cherry\"]\n",
    "\n",
    "# 8. Use the append method to add \"orange\" to the fruits list.\n",
    "#     [\"apple\", \"banana\", \"cherry\"]\n",
    "\n",
    "# 9. Use the insert method to add \"lemon\" as the second item in the fruits list.\n",
    "#     [\"apple\", \"banana\", \"cherry\"]\n",
    "\n",
    "# 10. Use the remove method to remove \"banana\" from the fruits list.\n",
    "#     [\"apple\", \"banana\", \"cherry\"]\n",
    "\n",
    "# 11. Use negative indexing to print the 3rd and 2nd to last items in the list.\n",
    "#     [\"apple\", \"banana\", \"cherry\", \"orange\", \"kiwi\", \"melon\", \"mango\"]\n",
    "\n",
    "# 12. Use a range of indexes to print the third, fourth, and fifth item in the list.\n",
    "#     [\"apple\", \"banana\", \"cherry\", \"orange\", \"kiwi\", \"melon\", \"mango\"]\n",
    "\n",
    "# 13. Use the correct syntax to print the number of items in the list.\n",
    "#     [\"apple\", \"banana\", \"cherry\", \"orange\", \"kiwi\", \"melon\", \"mango\"]\n",
    "\n",
    "# 14. Use the correct syntax to sort this list in reverse order\n",
    "#     [\"apple\", \"banana\", \"cherry\", \"orange\", \"kiwi\", \"melon\", \"mango\"]"
   ]
  }
 ],
 "metadata": {
  "kernelspec": {
   "display_name": "Python 3 (ipykernel)",
   "language": "python",
   "name": "python3"
  },
  "language_info": {
   "codemirror_mode": {
    "name": "ipython",
    "version": 3
   },
   "file_extension": ".py",
   "mimetype": "text/x-python",
   "name": "python",
   "nbconvert_exporter": "python",
   "pygments_lexer": "ipython3",
   "version": "3.11.3"
  }
 },
 "nbformat": 4,
 "nbformat_minor": 2
}
