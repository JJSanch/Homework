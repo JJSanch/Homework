{
 "cells": [
  {
   "cell_type": "code",
   "execution_count": 1,
   "metadata": {},
   "outputs": [
    {
     "name": "stdout",
     "output_type": "stream",
     "text": [
      "a0605e4f0a979de92ac4a230d3b00c00\n",
      "{'coord': {'lon': -85.1647, 'lat': 34.257}, 'weather': [{'id': 800, 'main': 'Clear', 'description': 'clear sky', 'icon': '01d'}], 'base': 'stations', 'main': {'temp': 300.96, 'feels_like': 303.09, 'temp_min': 299.42, 'temp_max': 303.32, 'pressure': 1010, 'humidity': 67}, 'visibility': 10000, 'wind': {'speed': 1.54, 'deg': 250}, 'clouds': {'all': 0}, 'dt': 1687130989, 'sys': {'type': 2, 'id': 2009938, 'country': 'US', 'sunrise': 1687084116, 'sunset': 1687136096}, 'timezone': -14400, 'id': 4219762, 'name': 'Rome', 'cod': 200}\n"
     ]
    }
   ],
   "source": [
    "import requests\n",
    "from dotenv import load_dotenv\n",
    "import pandas as pd\n",
    "import json\n",
    "import os\n",
    "\n",
    "load_dotenv()\n",
    "\n",
    "# API_KEY = a0605e4f0a979de92ac4a230d3b00c00 (this is in a .env file)\n",
    "\n",
    "api_key = os.getenv('API_KEY')\n",
    "\n",
    "print(api_key)\n",
    "\n",
    "# response url = https://api.openweathermap.org/data/2.5/weather?q=Rome&appid={api_key}\n",
    "\n",
    "try: \n",
    "    response=requests.get(f\"https://api.openweathermap.org/data/2.5/weather?q=Rome&appid={api_key}\")\n",
    "    if response.status_code==200:\n",
    "        data = response.json()\n",
    "        print(data)\n",
    "    else:\n",
    "        print(f\"Error, request failed. Failure code is a...\",response.status_code)\n",
    "except requests.exceptions.RequestException as a:\n",
    "    print('This is an error response. Request debugging required', a)\n",
    "\n",
    "\n",
    "\n"
   ]
  }
 ],
 "metadata": {
  "kernelspec": {
   "display_name": "Python 3",
   "language": "python",
   "name": "python3"
  },
  "language_info": {
   "codemirror_mode": {
    "name": "ipython",
    "version": 3
   },
   "file_extension": ".py",
   "mimetype": "text/x-python",
   "name": "python",
   "nbconvert_exporter": "python",
   "pygments_lexer": "ipython3",
   "version": "3.11.3"
  },
  "orig_nbformat": 4
 },
 "nbformat": 4,
 "nbformat_minor": 2
}
